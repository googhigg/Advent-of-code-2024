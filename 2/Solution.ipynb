{
 "cells": [
  {
   "cell_type": "code",
   "execution_count": 42,
   "metadata": {},
   "outputs": [],
   "source": [
    "data = []\n",
    "\n",
    "with open(\"data\", \"r\") as input:\n",
    "    data = list(map(lambda x: list(map(int, x.split(' '))) , input.read().split('\\n')))"
   ]
  },
  {
   "cell_type": "code",
   "execution_count": 43,
   "metadata": {},
   "outputs": [],
   "source": [
    "def is_line_safe(soft_flag: bool, line: list, increasing: bool | None = None) -> bool:\n",
    "    line_len = len(line)\n",
    "\n",
    "    if increasing is None:\n",
    "        diff = line[1] - line[0]\n",
    "\n",
    "        if not(0 <= abs(diff) < 4):\n",
    "            if not(soft_flag): return False\n",
    "            if not(0 <= abs(line[2] - line[0]) < 4): return is_line_safe(False, line[1:])\n",
    "            else: return is_line_safe(False, line[:1] + line[2:])\n",
    "\n",
    "        increasing = line[1] > line[0]\n",
    "\n",
    "    for i in range(1, line_len):\n",
    "        diff = line[i] - line[i - 1]\n",
    "\n",
    "\n",
    "    if increasing:\n",
    "        for i in range(2, line_len):\n",
    "            if not(0 < line[i] - line[i - 1] < 4):\n",
    "                if not(soft_flag): return False\n",
    "                if i == line_len - 1: return True\n",
    "                if 0 <= abs(line[i] - line[i-2]) < 4: return is_line_safe(False, [line[i-2]] + line[i:], increasing)\n",
    "                if 0 <= abs(line[i+1] - line[i-1]) < 4: return is_line_safe(False, [line[i-1]] + line[i+1:], increasing)\n",
    "                return False\n",
    "    else:\n",
    "        for i in range(1, line_len):\n",
    "            if not(0 < line[i - 1] - line[i] < 4):\n",
    "                if not(soft_flag): return False\n",
    "                if i == line_len - 1: return True\n",
    "                if 0 <= abs(line[i-2] - line[i]) < 4: return is_line_safe(False, [line[i-2]] + line[i:], increasing)\n",
    "                if 0 <= abs(line[i-1] - line[i+1]) < 4: return is_line_safe(False, [line[i-1]] + line[i+1:], increasing)\n",
    "                return False\n",
    "    \n",
    "    return True\n",
    "\n",
    "def error_detection(soft_flag: bool, data: list) -> int:\n",
    "    return sum(1 for line in data if is_line_safe(soft_flag, line))"
   ]
  },
  {
   "cell_type": "code",
   "execution_count": 44,
   "metadata": {},
   "outputs": [
    {
     "data": {
      "text/plain": [
       "202"
      ]
     },
     "execution_count": 44,
     "metadata": {},
     "output_type": "execute_result"
    }
   ],
   "source": [
    "# part 1 answer\n",
    "error_detection(False, data)"
   ]
  },
  {
   "cell_type": "code",
   "execution_count": 45,
   "metadata": {},
   "outputs": [
    {
     "data": {
      "text/plain": [
       "258"
      ]
     },
     "execution_count": 45,
     "metadata": {},
     "output_type": "execute_result"
    }
   ],
   "source": [
    "# part 2 answer\n",
    "error_detection(True, data)"
   ]
  }
 ],
 "metadata": {
  "kernelspec": {
   "display_name": "Python 3",
   "language": "python",
   "name": "python3"
  },
  "language_info": {
   "codemirror_mode": {
    "name": "ipython",
    "version": 3
   },
   "file_extension": ".py",
   "mimetype": "text/x-python",
   "name": "python",
   "nbconvert_exporter": "python",
   "pygments_lexer": "ipython3",
   "version": "3.13.1"
  }
 },
 "nbformat": 4,
 "nbformat_minor": 2
}
