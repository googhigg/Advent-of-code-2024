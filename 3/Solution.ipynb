{
 "cells": [
  {
   "cell_type": "code",
   "execution_count": 33,
   "metadata": {},
   "outputs": [],
   "source": [
    "import re"
   ]
  },
  {
   "cell_type": "code",
   "execution_count": 34,
   "metadata": {},
   "outputs": [],
   "source": [
    "data = ''\n",
    "\n",
    "with open('data', 'r') as file:\n",
    "    data = file.read()"
   ]
  },
  {
   "cell_type": "code",
   "execution_count": 35,
   "metadata": {},
   "outputs": [],
   "source": [
    "def part1():\n",
    "    sum = 0\n",
    "    for command in re.findall(r\"mul\\(\\d+,\\d+\\)\", data):\n",
    "        args = re.findall(r\"\\d+\", command)\n",
    "        sum += int(args[0]) * int(args[1])\n",
    "\n",
    "    print(sum)"
   ]
  },
  {
   "cell_type": "code",
   "execution_count": 36,
   "metadata": {},
   "outputs": [],
   "source": [
    "def part2():\n",
    "    sum = 0\n",
    "    do = True\n",
    "    for command in re.findall(r\"mul\\(\\d+,\\d+\\)|do\\(\\)|don't\\(\\)\", data):\n",
    "        if command == \"do()\":\n",
    "            do = True\n",
    "            continue\n",
    "        elif command == \"don't()\":\n",
    "            do = False\n",
    "            continue\n",
    "        elif do:\n",
    "            args = re.findall(r\"\\d+\", command)\n",
    "            sum += int(args[0]) * int(args[1])\n",
    "\n",
    "    print(sum)"
   ]
  },
  {
   "cell_type": "code",
   "execution_count": 37,
   "metadata": {},
   "outputs": [
    {
     "name": "stdout",
     "output_type": "stream",
     "text": [
      "183788984\n",
      "62098619\n"
     ]
    }
   ],
   "source": [
    "#part 1 answer\n",
    "part1()\n",
    "#part 2 answer\n",
    "part2()"
   ]
  }
 ],
 "metadata": {
  "kernelspec": {
   "display_name": "Python 3",
   "language": "python",
   "name": "python3"
  },
  "language_info": {
   "codemirror_mode": {
    "name": "ipython",
    "version": 3
   },
   "file_extension": ".py",
   "mimetype": "text/x-python",
   "name": "python",
   "nbconvert_exporter": "python",
   "pygments_lexer": "ipython3",
   "version": "3.13.1"
  }
 },
 "nbformat": 4,
 "nbformat_minor": 2
}
