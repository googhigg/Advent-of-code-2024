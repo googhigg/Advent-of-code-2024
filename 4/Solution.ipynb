{
 "cells": [
  {
   "cell_type": "code",
   "execution_count": 25,
   "metadata": {},
   "outputs": [],
   "source": [
    "data = ''\n",
    "\n",
    "with open('data', 'r') as file:\n",
    "    data = file.read().splitlines()"
   ]
  },
  {
   "cell_type": "code",
   "execution_count": 26,
   "metadata": {},
   "outputs": [],
   "source": [
    "width = len(data[0])\n",
    "height = len(data)\n",
    "\n",
    "XMAS_count = 0\n",
    "MAS_count = 0\n",
    "\n",
    "def get_XMAS(x, y):\n",
    "    loc_count = 0\n",
    "    if y > 2 and data[x][y-1] == 'M' and data[x][y-2] == 'A' and data[x][y-3] == 'S': loc_count += 1\n",
    "    if x < width - 3 and y > 2 and data[x+1][y-1] == 'M' and data[x+2][y-2] == 'A' and data[x+3][y-3] == 'S': loc_count += 1\n",
    "    if x < width - 3 and data[x+1][y] == 'M' and data[x+2][y] == 'A' and data[x+3][y] == 'S': loc_count += 1\n",
    "    if x < width - 3 and y < height - 3 and data[x+1][y+1] == 'M' and data[x+2][y+2] == 'A' and data[x+3][y+3] == 'S': loc_count += 1\n",
    "    if y < height - 3 and data[x][y+1] == 'M' and data[x][y+2] == 'A' and data[x][y+3] == 'S': loc_count += 1\n",
    "    if x > 2 and y < height - 3 and data[x-1][y+1] == 'M' and data[x-2][y+2] == 'A' and data[x-3][y+3] == 'S': loc_count += 1\n",
    "    if x > 2 and data[x-1][y] == 'M' and data[x-2][y] == 'A' and data[x-3][y] == 'S': loc_count += 1\n",
    "    if x > 2 and y > 2 and data[x-1][y-1] == 'M' and data[x-2][y-2] == 'A' and data[x-3][y-3] == 'S': loc_count += 1\n",
    "    return loc_count\n",
    "\n",
    "\n",
    "def get_MAS(x, y):\n",
    "    if x == 0 or x == width - 1 or y == 0 or y == height - 1: return 0\n",
    "    loc_count = 0\n",
    "    if data[x-1][y-1] == 'M' and data[x+1][y+1] == 'S':\n",
    "        if data[x-1][y+1] == 'M' and data[x+1][y-1] == 'S': loc_count += 1\n",
    "        if data[x-1][y+1] == 'S' and data[x+1][y-1] == 'M': loc_count += 1\n",
    "    if data[x-1][y-1] == 'S' and data[x+1][y+1] == 'M':\n",
    "        if data[x-1][y+1] == 'M' and data[x+1][y-1] == 'S': loc_count += 1\n",
    "        if data[x-1][y+1] == 'S' and data[x+1][y-1] == 'M': loc_count += 1\n",
    "    return loc_count"
   ]
  },
  {
   "cell_type": "code",
   "execution_count": 27,
   "metadata": {},
   "outputs": [
    {
     "data": {
      "text/plain": [
       "2642"
      ]
     },
     "execution_count": 27,
     "metadata": {},
     "output_type": "execute_result"
    }
   ],
   "source": [
    "for i in range(0, height):\n",
    "    for j in range(0, width):\n",
    "        if data[i][j] == 'X': XMAS_count += get_XMAS(i, j)\n",
    "\n",
    "#part 1 answer\n",
    "XMAS_count"
   ]
  },
  {
   "cell_type": "code",
   "execution_count": 28,
   "metadata": {},
   "outputs": [
    {
     "data": {
      "text/plain": [
       "1974"
      ]
     },
     "execution_count": 28,
     "metadata": {},
     "output_type": "execute_result"
    }
   ],
   "source": [
    "for i in range(0, height):\n",
    "    for j in range(0, width):\n",
    "        if data[i][j] == 'A': MAS_count += get_MAS(i, j)\n",
    "\n",
    "#part 2 answer\n",
    "MAS_count"
   ]
  }
 ],
 "metadata": {
  "kernelspec": {
   "display_name": "Python 3",
   "language": "python",
   "name": "python3"
  },
  "language_info": {
   "codemirror_mode": {
    "name": "ipython",
    "version": 3
   },
   "file_extension": ".py",
   "mimetype": "text/x-python",
   "name": "python",
   "nbconvert_exporter": "python",
   "pygments_lexer": "ipython3",
   "version": "3.13.1"
  }
 },
 "nbformat": 4,
 "nbformat_minor": 2
}
